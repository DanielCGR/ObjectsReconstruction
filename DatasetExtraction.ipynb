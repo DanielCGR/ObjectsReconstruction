version https://git-lfs.github.com/spec/v1
oid sha256:80818957a6d87aff84d4a013e8d7b7e70463956479caa837e9f7a2bb165eb4a0
size 2742873
